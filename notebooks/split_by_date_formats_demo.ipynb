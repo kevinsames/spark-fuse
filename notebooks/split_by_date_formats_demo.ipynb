{
 "cells": [
  {
   "cell_type": "markdown",
   "id": "d098c94e",
   "metadata": {},
   "source": [
    "# Demonstration: `split_by_date_formats`\n",
    "\n",
    "This notebook showcases how to parse string dates that arrive in multiple formats\n",
    "by using `spark_fuse.utils.transformations.split_by_date_formats`.\n"
   ]
  },
  {
   "cell_type": "markdown",
   "id": "fbe9a297",
   "metadata": {},
   "source": [
    "## Prerequisites\n",
    "\n",
    "* A working PySpark environment (Spark 3.4+ recommended).\n",
    "* The `spark-fuse` package available on the Python path.\n"
   ]
  },
  {
   "cell_type": "code",
   "execution_count": 6,
   "id": "75821f52",
   "metadata": {},
   "outputs": [
    {
     "data": {
      "text/html": [
       "\n",
       "            <div>\n",
       "                <p><b>SparkSession - in-memory</b></p>\n",
       "                \n",
       "        <div>\n",
       "            <p><b>SparkContext</b></p>\n",
       "\n",
       "            <p><a href=\"http://air-von-kevin:4040\">Spark UI</a></p>\n",
       "\n",
       "            <dl>\n",
       "              <dt>Version</dt>\n",
       "                <dd><code>v3.5.1</code></dd>\n",
       "              <dt>Master</dt>\n",
       "                <dd><code>local[*]</code></dd>\n",
       "              <dt>AppName</dt>\n",
       "                <dd><code>SplitByDateFormatsDemo</code></dd>\n",
       "            </dl>\n",
       "        </div>\n",
       "        \n",
       "            </div>\n",
       "        "
      ],
      "text/plain": [
       "<pyspark.sql.session.SparkSession at 0x11ff622a0>"
      ]
     },
     "execution_count": 6,
     "metadata": {},
     "output_type": "execute_result"
    }
   ],
   "source": [
    "from pyspark.sql import SparkSession\n",
    "\n",
    "spark = (\n",
    "    SparkSession.builder.appName(\"SplitByDateFormatsDemo\")\n",
    "    .master(\"local[*]\")\n",
    "    .getOrCreate()\n",
    ")\n",
    "\n",
    "spark"
   ]
  },
  {
   "cell_type": "markdown",
   "id": "cd6ce5fd",
   "metadata": {},
   "source": [
    "## Sample data\n",
    "\n",
    "We will work with a small dataset where the `raw` column contains dates in more than one\n",
    "format, plus an invalid entry that needs special handling.\n"
   ]
  },
  {
   "cell_type": "code",
   "execution_count": 7,
   "id": "75b0c54a",
   "metadata": {},
   "outputs": [
    {
     "name": "stderr",
     "output_type": "stream",
     "text": [
      "/Library/Frameworks/Python.framework/Versions/3.12/lib/python3.12/site-packages/pyspark/python/lib/pyspark.zip/pyspark/daemon.py:154: DeprecationWarning: This process (pid=43101) is multi-threaded, use of fork() may lead to deadlocks in the child.\n",
      "                                                                                \r"
     ]
    },
    {
     "name": "stdout",
     "output_type": "stream",
     "text": [
      "+---+----------+\n",
      "|id |raw       |\n",
      "+---+----------+\n",
      "|1  |2023-03-05|\n",
      "|2  |05/06/2023|\n",
      "|3  |00.00.0000|\n",
      "+---+----------+\n",
      "\n"
     ]
    }
   ],
   "source": [
    "from spark_fuse.utils.transformations import split_by_date_formats\n",
    "\n",
    "data = [\n",
    "    {\"id\": 1, \"raw\": \"2023-03-05\"},\n",
    "    {\"id\": 2, \"raw\": \"05/06/2023\"},\n",
    "    {\"id\": 3, \"raw\": \"00.00.0000\"},  # invalid\n",
    "]\n",
    "\n",
    "df = spark.createDataFrame(data)\n",
    "df.show(truncate=False)"
   ]
  },
  {
   "cell_type": "markdown",
   "id": "cc3c4e04",
   "metadata": {},
   "source": [
    "## Parsing with multiple formats\n",
    "\n",
    "We can provide a list of Spark-compatible date patterns. The rows that match any of the\n",
    "patterns are parsed into a `date` column; others are left unmatched so they can be\n",
    "addressed separately.\n"
   ]
  },
  {
   "cell_type": "code",
   "execution_count": 8,
   "id": "07972eaf",
   "metadata": {},
   "outputs": [
    {
     "name": "stdout",
     "output_type": "stream",
     "text": [
      "Parsed rows:\n"
     ]
    },
    {
     "name": "stderr",
     "output_type": "stream",
     "text": [
      "                                                                                \r"
     ]
    },
    {
     "name": "stdout",
     "output_type": "stream",
     "text": [
      "+---+----------+----------+\n",
      "|id |raw       |raw_date  |\n",
      "+---+----------+----------+\n",
      "|1  |2023-03-05|2023-03-05|\n",
      "|2  |05/06/2023|2023-05-06|\n",
      "|3  |00.00.0000|NULL      |\n",
      "+---+----------+----------+\n",
      "\n",
      "Unmatched rows:\n",
      "+---+----------+--------+\n",
      "|id |raw       |raw_date|\n",
      "+---+----------+--------+\n",
      "|3  |00.00.0000|NULL    |\n",
      "+---+----------+--------+\n",
      "\n"
     ]
    }
   ],
   "source": [
    "parsed_df, unmatched_df = split_by_date_formats(\n",
    "    df,\n",
    "    column=\"raw\",\n",
    "    formats=[\"yyyy-MM-dd\", \"MM/dd/yyyy\",\"dd.MM.yyyy\"],\n",
    "    return_unmatched=True,\n",
    ")\n",
    "\n",
    "print(\"Parsed rows:\")\n",
    "parsed_df.orderBy(\"id\").show(truncate=False)\n",
    "\n",
    "print(\"Unmatched rows:\")\n",
    "unmatched_df.show(truncate=False)"
   ]
  },
  {
   "cell_type": "markdown",
   "id": "8478dd1f",
   "metadata": {},
   "source": [
    "## Applying a default value\n",
    "\n",
    "When invalid values should fall back to a known date, set `handle_errors=\"default\"`\n",
    "and provide `default_value`. The unmatched rows are still available if you request them.\n"
   ]
  },
  {
   "cell_type": "code",
   "execution_count": 9,
   "id": "a5fbdbf3",
   "metadata": {},
   "outputs": [
    {
     "name": "stdout",
     "output_type": "stream",
     "text": [
      "Rows with defaults applied:\n"
     ]
    },
    {
     "name": "stderr",
     "output_type": "stream",
     "text": [
      "                                                                                \r"
     ]
    },
    {
     "name": "stdout",
     "output_type": "stream",
     "text": [
      "+---+----------+----------+\n",
      "|id |raw       |raw_date  |\n",
      "+---+----------+----------+\n",
      "|1  |2023-03-05|2023-03-05|\n",
      "|2  |05/06/2023|2023-05-06|\n",
      "|3  |00.00.0000|1900-01-01|\n",
      "+---+----------+----------+\n",
      "\n",
      "Unmatched rows (still available for auditing):\n",
      "+---+----------+--------+\n",
      "|id |raw       |raw_date|\n",
      "+---+----------+--------+\n",
      "|3  |00.00.0000|NULL    |\n",
      "+---+----------+--------+\n",
      "\n"
     ]
    }
   ],
   "source": [
    "default_df, default_unmatched = split_by_date_formats(\n",
    "    df,\n",
    "    column=\"raw\",\n",
    "    formats=[\"yyyy-MM-dd\", \"MM/dd/yyyy\", \"dd.MM.yyyy\"],\n",
    "    handle_errors=\"default\",\n",
    "    default_value=\"1900-01-01\",\n",
    "    return_unmatched=True,\n",
    ")\n",
    "\n",
    "print(\"Rows with defaults applied:\")\n",
    "default_df.orderBy(\"id\").show(truncate=False)\n",
    "\n",
    "print(\"Unmatched rows (still available for auditing):\")\n",
    "default_unmatched.show(truncate=False)"
   ]
  },
  {
   "cell_type": "markdown",
   "id": "b9aff71b",
   "metadata": {},
   "source": [
    "## Clean up\n",
    "\n",
    "Stop the Spark session if you no longer need it.\n"
   ]
  },
  {
   "cell_type": "code",
   "execution_count": 10,
   "id": "88303e4b",
   "metadata": {},
   "outputs": [],
   "source": [
    "spark.stop()"
   ]
  }
 ],
 "metadata": {
  "kernelspec": {
   "display_name": ".venv (3.12.3)",
   "language": "python",
   "name": "python3"
  },
  "language_info": {
   "codemirror_mode": {
    "name": "ipython",
    "version": 3
   },
   "file_extension": ".py",
   "mimetype": "text/x-python",
   "name": "python",
   "nbconvert_exporter": "python",
   "pygments_lexer": "ipython3",
   "version": "3.12.3"
  }
 },
 "nbformat": 4,
 "nbformat_minor": 5
}
