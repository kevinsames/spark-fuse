{
 "cells": [
  {
   "cell_type": "markdown",
   "id": "d098c94e",
   "metadata": {},
   "source": [
    "# Demonstration: `split_by_date_formats`\n",
    "\n",
    "This notebook showcases how to parse string dates that arrive in multiple formats\n",
    "by using `spark_fuse.utils.transformations.split_by_date_formats`.\n"
   ]
  },
  {
   "cell_type": "markdown",
   "id": "fbe9a297",
   "metadata": {},
   "source": [
    "## Prerequisites\n",
    "\n",
    "* A working PySpark environment (Spark 3.4+ recommended).\n",
    "* The `spark-fuse` package available on the Python path.\n"
   ]
  },
  {
   "cell_type": "code",
   "execution_count": 10,
   "id": "75821f52",
   "metadata": {},
   "outputs": [
    {
     "data": {
      "text/html": [
       "\n",
       "            <div>\n",
       "                <p><b>SparkSession - in-memory</b></p>\n",
       "                \n",
       "        <div>\n",
       "            <p><b>SparkContext</b></p>\n",
       "\n",
       "            <p><a href=\"http://air-von-kevin:4040\">Spark UI</a></p>\n",
       "\n",
       "            <dl>\n",
       "              <dt>Version</dt>\n",
       "                <dd><code>v3.5.1</code></dd>\n",
       "              <dt>Master</dt>\n",
       "                <dd><code>local[*]</code></dd>\n",
       "              <dt>AppName</dt>\n",
       "                <dd><code>SplitByDateFormatsDemo</code></dd>\n",
       "            </dl>\n",
       "        </div>\n",
       "        \n",
       "            </div>\n",
       "        "
      ],
      "text/plain": [
       "<pyspark.sql.session.SparkSession at 0x10d9477d0>"
      ]
     },
     "execution_count": 10,
     "metadata": {},
     "output_type": "execute_result"
    }
   ],
   "source": [
    "from pyspark.sql import SparkSession\n",
    "\n",
    "spark = (\n",
    "    SparkSession.builder.appName(\"SplitByDateFormatsDemo\")\n",
    "    .master(\"local[*]\")\n",
    "    .getOrCreate()\n",
    ")\n",
    "\n",
    "spark"
   ]
  },
  {
   "cell_type": "markdown",
   "id": "cd6ce5fd",
   "metadata": {},
   "source": [
    "## Sample data\n",
    "\n",
    "We will work with a small dataset where the `raw` column contains dates in more than one\n",
    "format, plus an invalid entry that needs special handling.\n"
   ]
  },
  {
   "cell_type": "code",
   "execution_count": 11,
   "id": "75b0c54a",
   "metadata": {},
   "outputs": [
    {
     "name": "stdout",
     "output_type": "stream",
     "text": [
      "+---+----------+\n",
      "|id |raw       |\n",
      "+---+----------+\n",
      "|1  |2023-03-05|\n",
      "|2  |05/06/2023|\n",
      "|3  |00.00.0000|\n",
      "+---+----------+\n",
      "\n"
     ]
    }
   ],
   "source": [
    "from spark_fuse.utils.transformations import split_by_date_formats\n",
    "\n",
    "data = [\n",
    "    {\"id\": 1, \"raw\": \"2023-03-05\"},\n",
    "    {\"id\": 2, \"raw\": \"05/06/2023\"},\n",
    "    {\"id\": 3, \"raw\": \"00.00.0000\"},  # invalid\n",
    "]\n",
    "\n",
    "df = spark.createDataFrame(data)\n",
    "df.show(truncate=False)"
   ]
  },
  {
   "cell_type": "markdown",
   "id": "cc3c4e04",
   "metadata": {},
   "source": [
    "## Parsing with multiple formats\n",
    "\n",
    "We can provide a list of Spark-compatible date patterns. The rows that match any of the\n",
    "patterns are parsed into a `date` column; others are left unmatched so they can be\n",
    "addressed separately.\n"
   ]
  },
  {
   "cell_type": "code",
   "execution_count": 20,
   "id": "07972eaf",
   "metadata": {},
   "outputs": [
    {
     "ename": "AssertionError",
     "evalue": "",
     "output_type": "error",
     "traceback": [
      "\u001b[31m---------------------------------------------------------------------------\u001b[39m",
      "\u001b[31mAssertionError\u001b[39m                            Traceback (most recent call last)",
      "\u001b[32m/var/folders/gc/x7zs83sd6_vcbd1p6t67kj8c0000gn/T/ipykernel_41596/3784913923.py\u001b[39m in \u001b[36m?\u001b[39m\u001b[34m()\u001b[39m\n\u001b[32m----> \u001b[39m\u001b[32m1\u001b[39m parsed_df, unmatched_df = split_by_date_formats(\n\u001b[32m      2\u001b[39m     df,\n\u001b[32m      3\u001b[39m     column=\u001b[33m\"raw\"\u001b[39m,\n\u001b[32m      4\u001b[39m     formats=[\u001b[33m\"yyyy-MM-dd\"\u001b[39m, \u001b[33m\"MM/dd/yyyy\"\u001b[39m,\u001b[33m\"dd.MM.yyyy\"\u001b[39m],\n",
      "\u001b[32m~/Github/spark-fuse/src/spark_fuse/utils/transformations.py\u001b[39m in \u001b[36m?\u001b[39m\u001b[34m(df, column, formats, handle_errors, default_value, return_unmatched, output_column)\u001b[39m\n\u001b[32m    217\u001b[39m \n\u001b[32m    218\u001b[39m     \u001b[38;5;28;01mif\u001b[39;00m mode == \u001b[33m\"default\"\u001b[39m \u001b[38;5;28;01mand\u001b[39;00m default_value \u001b[38;5;28;01mis\u001b[39;00m \u001b[38;5;28;01mNone\u001b[39;00m:\n\u001b[32m    219\u001b[39m         \u001b[38;5;28;01mraise\u001b[39;00m ValueError(\u001b[33m\"default_value must be provided when handle_errors='default'\"\u001b[39m)\n\u001b[32m    220\u001b[39m \n\u001b[32m--> \u001b[39m\u001b[32m221\u001b[39m     parsed_expressions = [F.to_date(F.col(column), fmt) \u001b[38;5;28;01mfor\u001b[39;00m fmt \u001b[38;5;28;01min\u001b[39;00m format_list]\n\u001b[32m    222\u001b[39m     \u001b[38;5;28;01mif\u001b[39;00m len(parsed_expressions) == \u001b[32m1\u001b[39m:\n\u001b[32m    223\u001b[39m         parsed_expr = parsed_expressions[\u001b[32m0\u001b[39m]\n\u001b[32m    224\u001b[39m     \u001b[38;5;28;01melse\u001b[39;00m:\n",
      "\u001b[32m~/Github/spark-fuse/.venv/lib/python3.12/site-packages/pyspark/sql/utils.py\u001b[39m in \u001b[36m?\u001b[39m\u001b[34m(*args, **kwargs)\u001b[39m\n\u001b[32m    170\u001b[39m             \u001b[38;5;28;01mfrom\u001b[39;00m pyspark.sql.connect \u001b[38;5;28;01mimport\u001b[39;00m functions\n\u001b[32m    171\u001b[39m \n\u001b[32m    172\u001b[39m             \u001b[38;5;28;01mreturn\u001b[39;00m getattr(functions, f.__name__)(*args, **kwargs)\n\u001b[32m    173\u001b[39m         \u001b[38;5;28;01melse\u001b[39;00m:\n\u001b[32m--> \u001b[39m\u001b[32m174\u001b[39m             \u001b[38;5;28;01mreturn\u001b[39;00m f(*args, **kwargs)\n",
      "\u001b[32m~/Github/spark-fuse/.venv/lib/python3.12/site-packages/pyspark/sql/functions.py\u001b[39m in \u001b[36m?\u001b[39m\u001b[34m(col)\u001b[39m\n\u001b[32m    219\u001b[39m     Column<\u001b[33m'x'\u001b[39m>\n\u001b[32m    220\u001b[39m     >>> column(\u001b[33m'x'\u001b[39m)\n\u001b[32m    221\u001b[39m     Column<\u001b[33m'x'\u001b[39m>\n\u001b[32m    222\u001b[39m     \"\"\"\n\u001b[32m--> \u001b[39m\u001b[32m223\u001b[39m     \u001b[38;5;28;01mreturn\u001b[39;00m _invoke_function(\u001b[33m\"col\"\u001b[39m, col)\n",
      "\u001b[32m~/Github/spark-fuse/.venv/lib/python3.12/site-packages/pyspark/sql/functions.py\u001b[39m in \u001b[36m?\u001b[39m\u001b[34m(name, *args)\u001b[39m\n\u001b[32m     91\u001b[39m     \"\"\"\n\u001b[32m     92\u001b[39m     Invokes JVM function identified by name \u001b[38;5;28;01mwith\u001b[39;00m args\n\u001b[32m     93\u001b[39m     \u001b[38;5;28;01mand\u001b[39;00m wraps the result \u001b[38;5;28;01mwith\u001b[39;00m :\u001b[38;5;28;01mclass\u001b[39;00m:`~pyspark.sql.Column`.\n\u001b[32m     94\u001b[39m     \"\"\"\n\u001b[32m---> \u001b[39m\u001b[32m95\u001b[39m     \u001b[38;5;28;01massert\u001b[39;00m SparkContext._active_spark_context \u001b[38;5;28;01mis\u001b[39;00m \u001b[38;5;28;01mnot\u001b[39;00m \u001b[38;5;28;01mNone\u001b[39;00m\n\u001b[32m     96\u001b[39m     jf = _get_jvm_function(name, SparkContext._active_spark_context)\n\u001b[32m     97\u001b[39m     \u001b[38;5;28;01mreturn\u001b[39;00m Column(jf(*args))\n",
      "\u001b[31mAssertionError\u001b[39m: "
     ]
    }
   ],
   "source": [
    "parsed_df, unmatched_df = split_by_date_formats(\n",
    "    df,\n",
    "    column=\"raw\",\n",
    "    formats=[\"yyyy-MM-dd\", \"MM/dd/yyyy\",\"dd.MM.yyyy\"],\n",
    "    default_value='1970-01-01',\n",
    "    handle_errors=\"default\",\n",
    "    return_unmatched=True,\n",
    ")\n",
    "\n",
    "print(\"Parsed rows:\")\n",
    "parsed_df.orderBy(\"id\").show(truncate=False)\n",
    "\n",
    "print(\"Unmatched rows:\")\n",
    "unmatched_df.show(truncate=False)"
   ]
  },
  {
   "cell_type": "markdown",
   "id": "8478dd1f",
   "metadata": {},
   "source": [
    "## Applying a default value\n",
    "\n",
    "When invalid values should fall back to a known date, set `handle_errors=\"default\"`\n",
    "and provide `default_value`. The unmatched rows are still available if you request them.\n"
   ]
  },
  {
   "cell_type": "code",
   "execution_count": 13,
   "id": "a5fbdbf3",
   "metadata": {},
   "outputs": [
    {
     "name": "stdout",
     "output_type": "stream",
     "text": [
      "Rows with defaults applied:\n",
      "+---+----------+----------+\n",
      "|id |raw       |raw_date  |\n",
      "+---+----------+----------+\n",
      "|1  |2023-03-05|2023-03-05|\n",
      "|2  |05/06/2023|2023-05-06|\n",
      "|3  |00.00.0000|1900-01-01|\n",
      "+---+----------+----------+\n",
      "\n",
      "Unmatched rows (still available for auditing):\n",
      "+---+----------+--------+\n",
      "|id |raw       |raw_date|\n",
      "+---+----------+--------+\n",
      "|3  |00.00.0000|NULL    |\n",
      "+---+----------+--------+\n",
      "\n"
     ]
    }
   ],
   "source": [
    "default_df, default_unmatched = split_by_date_formats(\n",
    "    df,\n",
    "    column=\"raw\",\n",
    "    formats=[\"yyyy-MM-dd\", \"MM/dd/yyyy\"],\n",
    "    handle_errors=\"default\",\n",
    "    default_value=\"1900-01-01\",\n",
    "    return_unmatched=True,\n",
    ")\n",
    "\n",
    "print(\"Rows with defaults applied:\")\n",
    "default_df.orderBy(\"id\").show(truncate=False)\n",
    "\n",
    "print(\"Unmatched rows (still available for auditing):\")\n",
    "default_unmatched.show(truncate=False)"
   ]
  },
  {
   "cell_type": "markdown",
   "id": "b9aff71b",
   "metadata": {},
   "source": [
    "## Clean up\n",
    "\n",
    "Stop the Spark session if you no longer need it.\n"
   ]
  },
  {
   "cell_type": "code",
   "execution_count": 14,
   "id": "88303e4b",
   "metadata": {},
   "outputs": [],
   "source": [
    "spark.stop()"
   ]
  }
 ],
 "metadata": {
  "kernelspec": {
   "display_name": ".venv (3.12.3)",
   "language": "python",
   "name": "python3"
  },
  "language_info": {
   "codemirror_mode": {
    "name": "ipython",
    "version": 3
   },
   "file_extension": ".py",
   "mimetype": "text/x-python",
   "name": "python",
   "nbconvert_exporter": "python",
   "pygments_lexer": "ipython3",
   "version": "3.12.3"
  }
 },
 "nbformat": 4,
 "nbformat_minor": 5
}
