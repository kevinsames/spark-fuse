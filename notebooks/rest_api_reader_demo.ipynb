{
 "cells": [
  {
   "cell_type": "markdown",
   "id": "993c2cb4",
   "metadata": {},
   "source": [
    "# REST API Reader Demo\n",
    "\n",
    "This notebook demonstrates how to ingest a paginated REST endpoint using the `RestAPIReader` connector. We will rely on the public [PokeAPI](https://pokeapi.co/) service to retrieve Pokémon metadata."
   ]
  },
  {
   "cell_type": "markdown",
   "id": "42d2fdc9",
   "metadata": {},
   "source": [
    "## Overview\n",
    "1. Create or reuse a local Spark session.\n",
    "2. Configure `RestAPIReader` to page through `https://pokeapi.co/api/v2/pokemon`.\n",
    "3. Inspect the resulting Spark DataFrame and perform a couple of lightweight transforms.\n",
    "\n",
    "> ℹ️ PokeAPI is a free community API with rate limits. Keep the pagination bounds modest \n",
    "and avoid running the notebook repeatedly in tight loops."
   ]
  },
  {
   "cell_type": "code",
   "execution_count": null,
   "id": "f3dc8338",
   "metadata": {},
   "outputs": [],
   "source": [
    "from pyspark.sql import SparkSession\n",
    "\n",
    "spark = SparkSession.builder.appName(\"RestAPIReaderDemo\").master(\"local[*]\").getOrCreate()\n"
   ]
  },
  {
   "cell_type": "code",
   "execution_count": null,
   "id": "abec9396",
   "metadata": {},
   "outputs": [],
   "source": [
    "from spark_fuse.io.rest_api import RestAPIReader\n",
    "\n",
    "reader = RestAPIReader()\n",
    "base_url = \"https://pokeapi.co/api/v2/pokemon\"\n",
    "\n",
    "config = {\n",
    "    'pagination': {\n",
    "        'mode': 'response',\n",
    "        'field': 'next',  # follow the 'next' link returned by each response\n",
    "        'max_pages': 3,   # 3 pages x 20 Pokémon each\n",
    "    },\n",
    "    'params': {'limit': 20},  # page size\n",
    "    'records_field': 'results',\n",
    "    'infer_schema': True,\n",
    "    'parallelism': 2,\n",
    "    'headers': {'User-Agent': 'spark-fuse-rest-demo/1.0'},\n",
    "}\n",
    "\n",
    "pokemon_df = reader.read(spark, base_url, source_config=config)\n",
    "pokemon_df.printSchema()\n",
    "pokemon_df.show(5, truncate=False)\n"
   ]
  },
  {
   "cell_type": "code",
   "execution_count": null,
   "id": "733858f5",
   "metadata": {},
   "outputs": [],
   "source": [
    "from pyspark.sql import functions as F\n",
    "\n",
    "pokemon_enriched_df = pokemon_df\\n    .withColumn('pokemon_id', F.regexp_extract('url', r'/pokemon/(\\d+)/', 1).cast('int'))\\n    .orderBy('pokemon_id')\n",
    "\n",
    "pokemon_enriched_df.select('pokemon_id', 'name').show(10, truncate=False)\n"
   ]
  },
  {
   "cell_type": "code",
   "execution_count": null,
   "id": "0d146ba2",
   "metadata": {},
   "outputs": [],
   "source": [
    "spark.stop()\n"
   ]
  }
 ],
 "metadata": {
  "kernelspec": {
   "display_name": "Python 3",
   "language": "python",
   "name": "python3"
  },
  "language_info": {
   "name": "python",
   "pygments_lexer": "ipython3"
  }
 },
 "nbformat": 4,
 "nbformat_minor": 5
}
