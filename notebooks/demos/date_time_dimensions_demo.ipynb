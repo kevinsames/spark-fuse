{
 "cells": [
  {
   "cell_type": "markdown",
   "id": "intro",
   "metadata": {},
   "source": [
    "# Date and Time Dimension Demo"
   ]
  },
  {
   "cell_type": "markdown",
   "id": "overview",
   "metadata": {},
   "source": [
    "This notebook shows how to generate reusable date and time dimension dataframes with the helper functions in `spark_fuse.utils.dataframe`."
   ]
  },
  {
   "cell_type": "code",
   "execution_count": 1,
   "id": "start-spark",
   "metadata": {},
   "outputs": [
    {
     "name": "stdout",
     "output_type": "stream",
     "text": [
      ":: loading settings :: url = jar:file:/Library/Frameworks/Python.framework/Versions/3.12/lib/python3.12/site-packages/pyspark/jars/ivy-2.5.1.jar!/org/apache/ivy/core/settings/ivysettings.xml\n"
     ]
    },
    {
     "name": "stderr",
     "output_type": "stream",
     "text": [
      "Ivy Default Cache set to: /Users/kevin/.ivy2/cache\n",
      "The jars for the packages stored in: /Users/kevin/.ivy2/jars\n",
      "io.delta#delta-spark_2.12 added as a dependency\n",
      ":: resolving dependencies :: org.apache.spark#spark-submit-parent-63e387ea-c4ac-4651-9578-2b078d6a0f32;1.0\n",
      "\tconfs: [default]\n",
      "\tfound io.delta#delta-spark_2.12;3.2.0 in central\n",
      "\tfound io.delta#delta-storage;3.2.0 in central\n",
      "\tfound org.antlr#antlr4-runtime;4.9.3 in central\n",
      ":: resolution report :: resolve 227ms :: artifacts dl 26ms\n",
      "\t:: modules in use:\n",
      "\tio.delta#delta-spark_2.12;3.2.0 from central in [default]\n",
      "\tio.delta#delta-storage;3.2.0 from central in [default]\n",
      "\torg.antlr#antlr4-runtime;4.9.3 from central in [default]\n",
      "\t---------------------------------------------------------------------\n",
      "\t|                  |            modules            ||   artifacts   |\n",
      "\t|       conf       | number| search|dwnlded|evicted|| number|dwnlded|\n",
      "\t---------------------------------------------------------------------\n",
      "\t|      default     |   3   |   0   |   0   |   0   ||   3   |   0   |\n",
      "\t---------------------------------------------------------------------\n",
      ":: retrieving :: org.apache.spark#spark-submit-parent-63e387ea-c4ac-4651-9578-2b078d6a0f32\n",
      "\tconfs: [default]\n",
      "\t0 artifacts copied, 3 already retrieved (0kB/22ms)\n",
      "25/10/21 12:27:32 WARN NativeCodeLoader: Unable to load native-hadoop library for your platform... using builtin-java classes where applicable\n",
      "Setting default log level to \"WARN\".\n",
      "To adjust logging level use sc.setLogLevel(newLevel). For SparkR, use setLogLevel(newLevel).\n"
     ]
    },
    {
     "data": {
      "text/html": [
       "\n",
       "            <div>\n",
       "                <p><b>SparkSession - in-memory</b></p>\n",
       "                \n",
       "        <div>\n",
       "            <p><b>SparkContext</b></p>\n",
       "\n",
       "            <p><a href=\"None\">Spark UI</a></p>\n",
       "\n",
       "            <dl>\n",
       "              <dt>Version</dt>\n",
       "                <dd><code>v3.5.1</code></dd>\n",
       "              <dt>Master</dt>\n",
       "                <dd><code>local[2]</code></dd>\n",
       "              <dt>AppName</dt>\n",
       "                <dd><code>spark-fuse-date-time-demo</code></dd>\n",
       "            </dl>\n",
       "        </div>\n",
       "        \n",
       "            </div>\n",
       "        "
      ],
      "text/plain": [
       "<pyspark.sql.session.SparkSession at 0x10dfeed50>"
      ]
     },
     "execution_count": 1,
     "metadata": {},
     "output_type": "execute_result"
    }
   ],
   "source": [
    "from spark_fuse.spark import create_session\n",
    "\n",
    "spark = create_session(\n",
    "    app_name=\"spark-fuse-date-time-demo\",\n",
    "    master=\"local[2]\",\n",
    "    extra_configs={\n",
    "        \"spark.ui.enabled\": \"false\",\n",
    "        \"spark.driver.bindAddress\": \"127.0.0.1\",\n",
    "        \"spark.driver.host\": \"localhost\",\n",
    "    },\n",
    ")\n",
    "spark"
   ]
  },
  {
   "cell_type": "code",
   "execution_count": 2,
   "id": "date-df",
   "metadata": {},
   "outputs": [
    {
     "name": "stderr",
     "output_type": "stream",
     "text": [
      "[Stage 0:>                                                          (0 + 2) / 2]\r"
     ]
    },
    {
     "name": "stdout",
     "output_type": "stream",
     "text": [
      "+----------+----+-------+-----+----------+----+---+-----------+---------+\n",
      "|date      |year|quarter|month|month_name|week|day|day_of_week|day_name |\n",
      "+----------+----+-------+-----+----------+----+---+-----------+---------+\n",
      "|2024-01-01|2024|1      |1    |January   |1   |1  |2          |Monday   |\n",
      "|2024-01-02|2024|1      |1    |January   |1   |2  |3          |Tuesday  |\n",
      "|2024-01-03|2024|1      |1    |January   |1   |3  |4          |Wednesday|\n",
      "|2024-01-04|2024|1      |1    |January   |1   |4  |5          |Thursday |\n",
      "|2024-01-05|2024|1      |1    |January   |1   |5  |6          |Friday   |\n",
      "|2024-01-06|2024|1      |1    |January   |1   |6  |7          |Saturday |\n",
      "|2024-01-07|2024|1      |1    |January   |1   |7  |1          |Sunday   |\n",
      "+----------+----+-------+-----+----------+----+---+-----------+---------+\n",
      "\n",
      "root\n",
      " |-- date: date (nullable = true)\n",
      " |-- year: integer (nullable = true)\n",
      " |-- quarter: integer (nullable = true)\n",
      " |-- month: integer (nullable = true)\n",
      " |-- month_name: string (nullable = true)\n",
      " |-- week: integer (nullable = true)\n",
      " |-- day: integer (nullable = true)\n",
      " |-- day_of_week: integer (nullable = true)\n",
      " |-- day_name: string (nullable = true)\n",
      "\n"
     ]
    },
    {
     "name": "stderr",
     "output_type": "stream",
     "text": [
      "                                                                                \r"
     ]
    }
   ],
   "source": [
    "from spark_fuse.utils.dataframe import create_date_dataframe, create_time_dataframe\n",
    "\n",
    "date_df = create_date_dataframe(spark, \"2024-01-01\", \"2024-01-07\")\n",
    "date_df.show(truncate=False)\n",
    "date_df.printSchema()"
   ]
  },
  {
   "cell_type": "code",
   "execution_count": 3,
   "id": "time-df",
   "metadata": {},
   "outputs": [
    {
     "name": "stdout",
     "output_type": "stream",
     "text": [
      "+----+------+------+--------+\n",
      "|hour|minute|second|time    |\n",
      "+----+------+------+--------+\n",
      "|8   |0     |0     |08:00:00|\n",
      "|8   |30    |0     |08:30:00|\n",
      "|9   |0     |0     |09:00:00|\n",
      "|9   |30    |0     |09:30:00|\n",
      "|10  |0     |0     |10:00:00|\n",
      "|10  |30    |0     |10:30:00|\n",
      "|11  |0     |0     |11:00:00|\n",
      "|11  |30    |0     |11:30:00|\n",
      "|12  |0     |0     |12:00:00|\n",
      "+----+------+------+--------+\n",
      "\n",
      "root\n",
      " |-- hour: integer (nullable = true)\n",
      " |-- minute: integer (nullable = true)\n",
      " |-- second: integer (nullable = true)\n",
      " |-- time: string (nullable = false)\n",
      "\n"
     ]
    }
   ],
   "source": [
    "time_df = create_time_dataframe(\n",
    "    spark,\n",
    "    start_time=\"08:00:00\",\n",
    "    end_time=\"12:00:00\",\n",
    "    interval_seconds=30 * 60,\n",
    ")\n",
    "time_df.show(truncate=False)\n",
    "time_df.printSchema()"
   ]
  },
  {
   "cell_type": "code",
   "execution_count": 4,
   "id": "stop-spark",
   "metadata": {},
   "outputs": [],
   "source": [
    "spark.stop()"
   ]
  }
 ],
 "metadata": {
  "kernelspec": {
   "display_name": ".venv (3.12.3)",
   "language": "python",
   "name": "python3"
  },
  "language_info": {
   "codemirror_mode": {
    "name": "ipython",
    "version": 3
   },
   "file_extension": ".py",
   "mimetype": "text/x-python",
   "name": "python",
   "nbconvert_exporter": "python",
   "pygments_lexer": "ipython3",
   "version": "3.12.3"
  }
 },
 "nbformat": 4,
 "nbformat_minor": 5
}
