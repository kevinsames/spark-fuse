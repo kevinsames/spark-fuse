{
 "cells": [
  {
   "cell_type": "markdown",
   "id": "intro",
   "metadata": {},
   "source": [
    "# SCD Upsert Demo"
   ]
  },
  {
   "cell_type": "markdown",
   "id": "overview",
   "metadata": {},
   "source": [
    "Demonstrates `scd1_upsert` and `scd2_upsert` utilities for managing Slowly Changing Dimensions with Delta Lake."
   ]
  },
  {
   "cell_type": "code",
   "execution_count": null,
   "id": "spark-session",
   "metadata": {},
   "outputs": [],
   "source": [
    "from pyspark.sql import Row\n",
    "from spark_fuse.spark import create_session\n",
    "from spark_fuse.utils.scd import scd1_upsert, scd2_upsert, SCDMode, apply_scd\n",
    "\n",
    "spark = create_session(\n",
    "    app_name=\"spark-fuse-scd-demo\",\n",
    "    master=\"local[2]\",\n",
    "    extra_configs={\n",
    "        \"spark.ui.enabled\": \"false\",\n",
    "        \"spark.driver.bindAddress\": \"127.0.0.1\",\n",
    "        \"spark.driver.host\": \"localhost\",\n",
    "    },\n",
    ")\n",
    "spark"
   ]
  },
  {
   "cell_type": "markdown",
   "id": "scd1-title",
   "metadata": {},
   "source": [
    "## SCD Type 1 Upsert"
   ]
  },
  {
   "cell_type": "code",
   "execution_count": null,
   "id": "scd1-upsert",
   "metadata": {},
   "outputs": [],
   "source": [
    "from pyspark.sql import functions as F\n",
    "\n",
    "initial = spark.createDataFrame(\n",
    "    [Row(id=1, val=\"a\", ts=1), Row(id=1, val=\"b\", ts=2), Row(id=2, val=\"x\", ts=5)]\n",
    ")\n",
    "\n",
    "target_path = \"/tmp/scd1_demo\"\n",
    "scd1_upsert(\n",
    "    spark,\n",
    "    initial,\n",
    "    target_path,\n",
    "    business_keys=[\"id\"],\n",
    "    tracked_columns=[\"val\"],\n",
    "    order_by=[\"ts\"],\n",
    ")\n",
    "\n",
    "updates = spark.createDataFrame([Row(id=1, val=\"c\", ts=3), Row(id=3, val=\"z\", ts=1)])\n",
    "scd1_upsert(\n",
    "    spark,\n",
    "    updates,\n",
    "    target_path,\n",
    "    business_keys=[\"id\"],\n",
    "    tracked_columns=[\"val\"],\n",
    "    order_by=[\"ts\"],\n",
    ")\n",
    "\n",
    "spark.read.format(\"delta\").load(target_path).orderBy(\"id\").show()"
   ]
  },
  {
   "cell_type": "markdown",
   "id": "scd2-title",
   "metadata": {},
   "source": [
    "## SCD Type 2 Upsert"
   ]
  },
  {
   "cell_type": "code",
   "execution_count": null,
   "id": "scd2-upsert",
   "metadata": {},
   "outputs": [],
   "source": [
    "scd2_target_path = \"/tmp/scd2_demo\"\n",
    "\n",
    "source_scd2 = spark.createDataFrame(\n",
    "    [Row(id=1, val=\"a\", ts=1), Row(id=1, val=\"b\", ts=2), Row(id=2, val=\"x\", ts=5)]\n",
    ")\n",
    "\n",
    "scd2_upsert(\n",
    "    spark,\n",
    "    source_scd2,\n",
    "    scd2_target_path,\n",
    "    business_keys=[\"id\"],\n",
    "    tracked_columns=[\"val\"],\n",
    "    order_by=[\"ts\"],\n",
    "    load_ts_expr=\"to_timestamp('2024-01-01 00:00:00')\",\n",
    ")\n",
    "\n",
    "changes = spark.createDataFrame([Row(id=1, val=\"c\", ts=3), Row(id=3, val=\"z\", ts=1)])\n",
    "\n",
    "scd2_upsert(\n",
    "    spark,\n",
    "    changes,\n",
    "    scd2_target_path,\n",
    "    business_keys=[\"id\"],\n",
    "    tracked_columns=[\"val\"],\n",
    "    order_by=[\"ts\"],\n",
    "    load_ts_expr=\"to_timestamp('2024-01-02 00:00:00')\",\n",
    ")\n",
    "\n",
    "spark.read.format(\"delta\").load(scd2_target_path).orderBy(\"id\", \"version\").show()"
   ]
  },
  {
   "cell_type": "markdown",
   "id": "dispatcher-title",
   "metadata": {},
   "source": [
    "## Unified dispatcher"
   ]
  },
  {
   "cell_type": "code",
   "execution_count": null,
   "id": "dispatcher",
   "metadata": {},
   "outputs": [],
   "source": [
    "dispatcher_target = \"/tmp/apply_scd_demo\"\n",
    "apply_scd(\n",
    "    spark,\n",
    "    spark.createDataFrame([Row(id=1, val=\"a\"), Row(id=2, val=\"b\")]),\n",
    "    dispatcher_target,\n",
    "    scd_mode=SCDMode.SCD2,\n",
    "    business_keys=[\"id\"],\n",
    "    tracked_columns=[\"val\"],\n",
    "    load_ts_expr=\"current_timestamp()\",\n",
    ")\n",
    "spark.read.format(\"delta\").load(dispatcher_target).show()"
   ]
  },
  {
   "cell_type": "code",
   "execution_count": null,
   "id": "stop-spark",
   "metadata": {},
   "outputs": [],
   "source": [
    "spark.stop()"
   ]
  }
 ],
 "metadata": {
  "kernelspec": {
   "display_name": "Python 3",
   "language": "python",
   "name": "python3"
  },
  "language_info": {
   "name": "python",
   "pygments_lexer": "ipython3"
  }
 },
 "nbformat": 4,
 "nbformat_minor": 5
}
