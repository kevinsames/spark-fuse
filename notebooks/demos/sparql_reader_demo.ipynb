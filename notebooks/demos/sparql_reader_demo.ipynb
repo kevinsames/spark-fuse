{
 "cells": [
  {
   "cell_type": "markdown",
   "id": "6b78720c",
   "metadata": {},
   "source": [
    "# SPARQL Reader Demo\n",
    "\n",
    "This notebook demonstrates how to query public SPARQL endpoints and load the results into Spark DataFrames using the `SPARQLReader` connector.\n"
   ]
  },
  {
   "cell_type": "markdown",
   "id": "fbff09dd",
   "metadata": {},
   "source": [
    "## Overview\n",
    "1. Create or reuse a local Spark session.\n",
    "2. Configure `SPARQLReader` to issue a query against the Wikidata SPARQL service.\n",
    "3. Inspect the resulting DataFrame and explore optional features like metadata capture.\n",
    "\n",
    "> ℹ️ The [Wikidata Query Service](https://query.wikidata.org/) enforces rate limits and expects a descriptive `User-Agent`. Adjust paging or sampling to stay within published usage guidelines.\n"
   ]
  },
  {
   "cell_type": "code",
   "execution_count": null,
   "id": "437b57bf",
   "metadata": {},
   "outputs": [],
   "source": [
    "from pyspark.sql import SparkSession\n",
    "\n",
    "spark = SparkSession.builder.appName(\"SPARQLReaderDemo\").master(\"local[*]\").getOrCreate()"
   ]
  },
  {
   "cell_type": "code",
   "execution_count": null,
   "id": "9b79d482",
   "metadata": {},
   "outputs": [],
   "source": [
    "from spark_fuse.io.sparql import SPARQLReader\n",
    "\n",
    "reader = SPARQLReader()\n",
    "endpoint = \"https://query.wikidata.org/sparql\"\n",
    "\n",
    "sample_query = \"\"\"\n",
    "PREFIX wd: <http://www.wikidata.org/entity/>\n",
    "PREFIX wdt: <http://www.wikidata.org/prop/direct/>\n",
    "PREFIX bd: <http://www.bigdata.com/rdf#>\n",
    "\n",
    "SELECT ?pokemon ?pokemonLabel ?pokedexNumber WHERE {\n",
    "  ?pokemon wdt:P31 wd:Q3966183 .\n",
    "  ?pokemon wdt:P1685 ?pokedexNumber .\n",
    "  SERVICE wikibase:label { bd:serviceParam wikibase:language \"[AUTO_LANGUAGE],en\". }\n",
    "}\n",
    "ORDER BY ASC(?pokedexNumber)\n",
    "LIMIT 10\n",
    "\"\"\".strip()\n",
    "\n",
    "config = {\n",
    "    \"query\": sample_query,\n",
    "    \"request_type\": \"POST\",         # POST handles longer queries more reliably\n",
    "    \"include_metadata\": True,\n",
    "    \"metadata_suffix\": \"__\",\n",
    "    \"coerce_types\": True,\n",
    "    \"headers\": {\n",
    "        # Replace with a contact address to comply with Wikidata Query Service policy\n",
    "        \"User-Agent\": \"spark-fuse-sparql-demo/1.0 (contact@example.com)\",\n",
    "    },\n",
    "    \"params\": {\n",
    "        \"format\": \"json\",\n",
    "    },\n",
    "}\n",
    "\n",
    "pokemon_df = reader.read(spark, endpoint, source_config=config)\n",
    "pokemon_df.printSchema()\n",
    "\n",
    "if pokemon_df.rdd.isEmpty():\n",
    "    print(\"No Pokémon results returned. Falling back to a small static sample.\")\n",
    "    fallback_rows = [\n",
    "        {\n",
    "            \"pokemon\": \"bulbasaur\",\n",
    "            \"pokemonLabel\": \"Bulbasaur\",\n",
    "            \"pokedexNumber\": \"001\",\n",
    "        },\n",
    "        {\n",
    "            \"pokemon\": \"charmander\",\n",
    "            \"pokemonLabel\": \"Charmander\",\n",
    "            \"pokedexNumber\": \"004\",\n",
    "        },\n",
    "        {\n",
    "            \"pokemon\": \"squirtle\",\n",
    "            \"pokemonLabel\": \"Squirtle\",\n",
    "            \"pokedexNumber\": \"007\",\n",
    "        },\n",
    "    ]\n",
    "    pokemon_df = spark.createDataFrame(fallback_rows, schema=pokemon_df.schema)\n",
    "\n",
    "pokemon_df.show(5, truncate=False)"
   ]
  },
  {
   "cell_type": "markdown",
   "id": "7562852f",
   "metadata": {},
   "source": [
    "### Boolean queries (ASK)\n",
    "\n",
    "`SPARQLReader` also supports boolean responses returned by `ASK` queries. The result is a single-row DataFrame with a `boolean` column.\n"
   ]
  },
  {
   "cell_type": "code",
   "execution_count": null,
   "id": "464b8697",
   "metadata": {},
   "outputs": [],
   "source": [
    "ask_query = \"\"\"\n",
    "PREFIX wd: <http://www.wikidata.org/entity/>\n",
    "PREFIX wdt: <http://www.wikidata.org/prop/direct/>\n",
    "\n",
    "ASK WHERE {\n",
    "  wd:Q3966183 wdt:P31 wd:Q1656682\n",
    "}\n",
    "\"\"\".strip()\n",
    "\n",
    "ask_df = reader.read(\n",
    "    spark,\n",
    "    {\"endpoint\": endpoint, \"query\": ask_query},\n",
    "    source_config={\n",
    "        \"request_type\": \"POST\",\n",
    "        \"headers\": {\n",
    "            \"User-Agent\": \"spark-fuse-sparql-demo/1.0 (https://github.com/kevinsames/spark-fuse)\",\n",
    "        },\n",
    "    },\n",
    ")\n",
    "ask_df.show()"
   ]
  },
  {
   "cell_type": "code",
   "execution_count": null,
   "id": "eafd3a89",
   "metadata": {},
   "outputs": [],
   "source": [
    "spark.stop()"
   ]
  }
 ],
 "metadata": {
  "kernelspec": {
   "display_name": "Python 3",
   "language": "python",
   "name": "python3"
  },
  "language_info": {
   "name": "python",
   "pygments_lexer": "ipython3"
  }
 },
 "nbformat": 4,
 "nbformat_minor": 5
}
